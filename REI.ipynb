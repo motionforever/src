import numpy as np
# define extrogenous variables
price_type = 'preset'
downpay = 0.23
rate=0.04
preset_purchase_price = 1.7e6
property_tax= 25000
insurance = 3300
yrs=30
rental_income_all = 9000*12
rental_income_partial = 4500*12
misc_expenses = 1500
# calculated variables
all_expenses=-(property_tax +insurance +misc_expenses)
#all cash
net_income_all_cash = rental_income_all + all_expenses
breakEvenPrice_allCash=-np.pv(rate=rate, nper=yrs, pmt = net_income_all)
# All cash
if price_type =='preset':
    purchase_price = preset_purchase_price
else:
    purchase_price = breakEvenPrice_allCash
print(('          All Cash Investment').upper())    
print('Total Expenses excluding Mortgage: ' +str(all_expenses))
print('Net Income per Year if all cash:             ' +str(net_income_all_cash))
print('Return all cash at break-even price:'+str(round(net_income_all_cash/breakEvenPrice_allCash*100,2))+'%')
print('All-cash Break-even price:         '+ str(round(breakEvenPrice_allCash,0)))

# borrow
def mortgage_cals(mortgage, rate=0.04,yrs=30,downpay=0.2,rental_income=9000*12,property_tax=0,insurance=1000, misc_expenses = 1500):
    breakEvenloan_amount=-np.pv(rate=rate, nper=yrs, pmt=mortgage )
    breakEvenPrice_borrow = breakEvenloan_amount /(1-downpay)
    all_expenses=-(property_tax +insurance +misc_expenses)
#     breakEvenPrice_zero_return=-np.pv(rate=rate, nper=yrs, pmt =(all_expenses+mortgage) )
    net_income_borrow = rental_income +all_expenses +mortgage
    annual_payment = (mortgage +all_expenses)
    monthly_payment = annual_payment/12
    print('Borrow price for ' + str(breakEvenPrice_borrow))
    print('Monthly Mortgage Payment:          '+str(round(monthly_payment,0)))
    print('Mortgage Payment per year:         '+str(round(annual_payment,0)))
    print('Borrow Break-even Loan:           '+ str(round(breakEvenloan_amount,0)))
    print('Borrow Break-even price:           '+ str(round(breakEvenPrice_borrow,0)))
    print('NetIncome per Month:             ' +str(net_income_borrow/12))
    print('Return with Borrow at break-even price w real income:'+str(round(net_income_borrow/(-breakEvenPrice_borrow)*100,2))+'%')
    print('Total Expenses including Mortgage: ' +str(round(annual_payment,0)))    
    return breakEvenloan_amount,breakEvenPrice_borrow,all_expenses,net_income_borrow,monthly_payment
# preset price
purchase_price = preset_purchase_price
print(('          Pre-set price with borrow').upper())
mortgage=np.pmt(rate=rate,nper=yrs,pv=preset_purchase_price*(1-downpay))
[preset_loan_amount,breakEvenPrice_borrow_preset,all_expenses,net_income_borrow_preset,monthly_payment_preset ]=\
    mortgage_cals(mortgage=mortgage, rate=rate,yrs=yrs,downpay=downpay,rental_income=rental_income_all,property_tax=property_tax,insurance=insurance, misc_expenses = misc_expenses)
cash_preset= preset_purchase_price * downpay
print('Initial cash needed if levered:    ' + str(cash_preset))
print('Return w Borrow at Pre-set price :'+str(round(net_income_borrow_preset/preset_purchase_price*100,2))+'%')

# break-even
print(('          Break-Even price with borrow').upper())
breakEvenMortgage  = -(rental_income_all + all_expenses)
[breakEvenloan_amount,breakEvenPrice_borrow,all_expenses,net_income_borrow,monthly_payment ]=\
    mortgage_cals(mortgage=breakEvenMortgage, rate=rate,yrs=yrs,downpay=downpay,rental_income=rental_income_all,property_tax=property_tax,insurance=insurance, misc_expenses = misc_expenses)
purchase_price=breakEvenPrice_borrow
cash_breakEven= purchase_price * downpay
print('Initial cash needed if levered:    ' + str(cash_breakEven))
